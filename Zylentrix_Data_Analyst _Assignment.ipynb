{
 "cells": [
  {
   "cell_type": "code",
   "execution_count": 1,
   "id": "3540ae0e",
   "metadata": {},
   "outputs": [],
   "source": [
    "import numpy as np\n",
    "import pandas as pd\n",
    "import matplotlib.pyplot as plt\n",
    "import seaborn as sns"
   ]
  },
  {
   "cell_type": "markdown",
   "id": "df162a41",
   "metadata": {},
   "source": [
    "#### Data Understanding"
   ]
  },
  {
   "cell_type": "code",
   "execution_count": 2,
   "id": "e13697ed",
   "metadata": {},
   "outputs": [
    {
     "data": {
      "text/html": [
       "<div>\n",
       "<style scoped>\n",
       "    .dataframe tbody tr th:only-of-type {\n",
       "        vertical-align: middle;\n",
       "    }\n",
       "\n",
       "    .dataframe tbody tr th {\n",
       "        vertical-align: top;\n",
       "    }\n",
       "\n",
       "    .dataframe thead th {\n",
       "        text-align: right;\n",
       "    }\n",
       "</style>\n",
       "<table border=\"1\" class=\"dataframe\">\n",
       "  <thead>\n",
       "    <tr style=\"text-align: right;\">\n",
       "      <th></th>\n",
       "      <th>Student_ID</th>\n",
       "      <th>Course_ID</th>\n",
       "      <th>Date</th>\n",
       "      <th>Time_Spent_Minutes</th>\n",
       "      <th>Completion_Percentage</th>\n",
       "    </tr>\n",
       "  </thead>\n",
       "  <tbody>\n",
       "    <tr>\n",
       "      <th>0</th>\n",
       "      <td>S001</td>\n",
       "      <td>PY202</td>\n",
       "      <td>5/1/2024</td>\n",
       "      <td>90</td>\n",
       "      <td>46.10</td>\n",
       "    </tr>\n",
       "    <tr>\n",
       "      <th>1</th>\n",
       "      <td>S001</td>\n",
       "      <td>DM101</td>\n",
       "      <td>28/01/2024</td>\n",
       "      <td>155</td>\n",
       "      <td>88.87</td>\n",
       "    </tr>\n",
       "    <tr>\n",
       "      <th>2</th>\n",
       "      <td>S001</td>\n",
       "      <td>UX303</td>\n",
       "      <td>28/01/2024</td>\n",
       "      <td>177</td>\n",
       "      <td>54.93</td>\n",
       "    </tr>\n",
       "    <tr>\n",
       "      <th>3</th>\n",
       "      <td>S002</td>\n",
       "      <td>PY202</td>\n",
       "      <td>3/2/2024</td>\n",
       "      <td>45</td>\n",
       "      <td>32.20</td>\n",
       "    </tr>\n",
       "    <tr>\n",
       "      <th>4</th>\n",
       "      <td>S002</td>\n",
       "      <td>UX303</td>\n",
       "      <td>15/03/2024</td>\n",
       "      <td>119</td>\n",
       "      <td>90.80</td>\n",
       "    </tr>\n",
       "  </tbody>\n",
       "</table>\n",
       "</div>"
      ],
      "text/plain": [
       "  Student_ID Course_ID        Date  Time_Spent_Minutes  Completion_Percentage\n",
       "0       S001     PY202    5/1/2024                  90                  46.10\n",
       "1       S001     DM101  28/01/2024                 155                  88.87\n",
       "2       S001     UX303  28/01/2024                 177                  54.93\n",
       "3       S002     PY202    3/2/2024                  45                  32.20\n",
       "4       S002     UX303  15/03/2024                 119                  90.80"
      ]
     },
     "execution_count": 2,
     "metadata": {},
     "output_type": "execute_result"
    }
   ],
   "source": [
    "df1 = pd.read_csv(\"C:\\\\Users\\\\dell\\\\Desktop\\\\course_activity.csv\")\n",
    "df1.head()"
   ]
  },
  {
   "cell_type": "code",
   "execution_count": 3,
   "id": "1c8bafca",
   "metadata": {},
   "outputs": [
    {
     "data": {
      "text/html": [
       "<div>\n",
       "<style scoped>\n",
       "    .dataframe tbody tr th:only-of-type {\n",
       "        vertical-align: middle;\n",
       "    }\n",
       "\n",
       "    .dataframe tbody tr th {\n",
       "        vertical-align: top;\n",
       "    }\n",
       "\n",
       "    .dataframe thead th {\n",
       "        text-align: right;\n",
       "    }\n",
       "</style>\n",
       "<table border=\"1\" class=\"dataframe\">\n",
       "  <thead>\n",
       "    <tr style=\"text-align: right;\">\n",
       "      <th></th>\n",
       "      <th>Student_ID</th>\n",
       "      <th>Name</th>\n",
       "      <th>Age</th>\n",
       "      <th>Gender</th>\n",
       "      <th>Location</th>\n",
       "      <th>Enrolment_Date</th>\n",
       "    </tr>\n",
       "  </thead>\n",
       "  <tbody>\n",
       "    <tr>\n",
       "      <th>0</th>\n",
       "      <td>S001</td>\n",
       "      <td>Student_1</td>\n",
       "      <td>24</td>\n",
       "      <td>Female</td>\n",
       "      <td>Kolkata</td>\n",
       "      <td>24/11/2023</td>\n",
       "    </tr>\n",
       "    <tr>\n",
       "      <th>1</th>\n",
       "      <td>S002</td>\n",
       "      <td>Student_2</td>\n",
       "      <td>32</td>\n",
       "      <td>Other</td>\n",
       "      <td>Chennai</td>\n",
       "      <td>27/02/2023</td>\n",
       "    </tr>\n",
       "    <tr>\n",
       "      <th>2</th>\n",
       "      <td>S003</td>\n",
       "      <td>Student_3</td>\n",
       "      <td>28</td>\n",
       "      <td>Other</td>\n",
       "      <td>Mumbai</td>\n",
       "      <td>13/01/2023</td>\n",
       "    </tr>\n",
       "    <tr>\n",
       "      <th>3</th>\n",
       "      <td>S004</td>\n",
       "      <td>Student_4</td>\n",
       "      <td>25</td>\n",
       "      <td>Female</td>\n",
       "      <td>Bangalore</td>\n",
       "      <td>21/05/2023</td>\n",
       "    </tr>\n",
       "    <tr>\n",
       "      <th>4</th>\n",
       "      <td>S005</td>\n",
       "      <td>Student_5</td>\n",
       "      <td>24</td>\n",
       "      <td>Other</td>\n",
       "      <td>Delhi</td>\n",
       "      <td>6/5/2023</td>\n",
       "    </tr>\n",
       "  </tbody>\n",
       "</table>\n",
       "</div>"
      ],
      "text/plain": [
       "  Student_ID       Name  Age  Gender   Location Enrolment_Date\n",
       "0       S001  Student_1   24  Female    Kolkata     24/11/2023\n",
       "1       S002  Student_2   32   Other    Chennai     27/02/2023\n",
       "2       S003  Student_3   28   Other     Mumbai     13/01/2023\n",
       "3       S004  Student_4   25  Female  Bangalore     21/05/2023\n",
       "4       S005  Student_5   24   Other      Delhi       6/5/2023"
      ]
     },
     "execution_count": 3,
     "metadata": {},
     "output_type": "execute_result"
    }
   ],
   "source": [
    "df2 = pd.read_csv(\"C:\\\\Users\\\\dell\\\\Desktop\\\\students.csv\")\n",
    "df2.head()"
   ]
  },
  {
   "cell_type": "code",
   "execution_count": 4,
   "id": "fce500ce",
   "metadata": {},
   "outputs": [
    {
     "data": {
      "text/html": [
       "<div>\n",
       "<style scoped>\n",
       "    .dataframe tbody tr th:only-of-type {\n",
       "        vertical-align: middle;\n",
       "    }\n",
       "\n",
       "    .dataframe tbody tr th {\n",
       "        vertical-align: top;\n",
       "    }\n",
       "\n",
       "    .dataframe thead th {\n",
       "        text-align: right;\n",
       "    }\n",
       "</style>\n",
       "<table border=\"1\" class=\"dataframe\">\n",
       "  <thead>\n",
       "    <tr style=\"text-align: right;\">\n",
       "      <th></th>\n",
       "      <th>Student_ID</th>\n",
       "      <th>Course_ID</th>\n",
       "      <th>Rating</th>\n",
       "      <th>Feedback_Text</th>\n",
       "    </tr>\n",
       "  </thead>\n",
       "  <tbody>\n",
       "    <tr>\n",
       "      <th>0</th>\n",
       "      <td>S057</td>\n",
       "      <td>UX303</td>\n",
       "      <td>2</td>\n",
       "      <td>Too fast-paced</td>\n",
       "    </tr>\n",
       "    <tr>\n",
       "      <th>1</th>\n",
       "      <td>S063</td>\n",
       "      <td>PY202</td>\n",
       "      <td>2</td>\n",
       "      <td>Loved the examples</td>\n",
       "    </tr>\n",
       "    <tr>\n",
       "      <th>2</th>\n",
       "      <td>S022</td>\n",
       "      <td>PY202</td>\n",
       "      <td>4</td>\n",
       "      <td>Could be better</td>\n",
       "    </tr>\n",
       "    <tr>\n",
       "      <th>3</th>\n",
       "      <td>S011</td>\n",
       "      <td>PY202</td>\n",
       "      <td>5</td>\n",
       "      <td>Needs improvement</td>\n",
       "    </tr>\n",
       "    <tr>\n",
       "      <th>4</th>\n",
       "      <td>S073</td>\n",
       "      <td>WD404</td>\n",
       "      <td>4</td>\n",
       "      <td>Could be better</td>\n",
       "    </tr>\n",
       "  </tbody>\n",
       "</table>\n",
       "</div>"
      ],
      "text/plain": [
       "  Student_ID Course_ID  Rating       Feedback_Text\n",
       "0       S057     UX303       2      Too fast-paced\n",
       "1       S063     PY202       2  Loved the examples\n",
       "2       S022     PY202       4     Could be better\n",
       "3       S011     PY202       5   Needs improvement\n",
       "4       S073     WD404       4     Could be better"
      ]
     },
     "execution_count": 4,
     "metadata": {},
     "output_type": "execute_result"
    }
   ],
   "source": [
    "df3 = pd.read_csv(\"C:\\\\Users\\\\dell\\\\Desktop\\\\feedback.csv\")\n",
    "df3.head()"
   ]
  },
  {
   "cell_type": "code",
   "execution_count": 5,
   "id": "80019d46",
   "metadata": {},
   "outputs": [
    {
     "name": "stdout",
     "output_type": "stream",
     "text": [
      "<class 'pandas.core.frame.DataFrame'>\n",
      "RangeIndex: 659 entries, 0 to 658\n",
      "Data columns (total 5 columns):\n",
      " #   Column                 Non-Null Count  Dtype  \n",
      "---  ------                 --------------  -----  \n",
      " 0   Student_ID             659 non-null    object \n",
      " 1   Course_ID              659 non-null    object \n",
      " 2   Date                   659 non-null    object \n",
      " 3   Time_Spent_Minutes     659 non-null    int64  \n",
      " 4   Completion_Percentage  659 non-null    float64\n",
      "dtypes: float64(1), int64(1), object(3)\n",
      "memory usage: 25.9+ KB\n"
     ]
    }
   ],
   "source": [
    "df1.info()"
   ]
  },
  {
   "cell_type": "code",
   "execution_count": 6,
   "id": "4710ce69",
   "metadata": {},
   "outputs": [
    {
     "name": "stdout",
     "output_type": "stream",
     "text": [
      "<class 'pandas.core.frame.DataFrame'>\n",
      "RangeIndex: 100 entries, 0 to 99\n",
      "Data columns (total 6 columns):\n",
      " #   Column          Non-Null Count  Dtype \n",
      "---  ------          --------------  ----- \n",
      " 0   Student_ID      100 non-null    object\n",
      " 1   Name            100 non-null    object\n",
      " 2   Age             100 non-null    int64 \n",
      " 3   Gender          100 non-null    object\n",
      " 4   Location        100 non-null    object\n",
      " 5   Enrolment_Date  100 non-null    object\n",
      "dtypes: int64(1), object(5)\n",
      "memory usage: 4.8+ KB\n"
     ]
    }
   ],
   "source": [
    "df2.info()"
   ]
  },
  {
   "cell_type": "code",
   "execution_count": 7,
   "id": "2af51bc0",
   "metadata": {},
   "outputs": [
    {
     "name": "stdout",
     "output_type": "stream",
     "text": [
      "<class 'pandas.core.frame.DataFrame'>\n",
      "RangeIndex: 80 entries, 0 to 79\n",
      "Data columns (total 4 columns):\n",
      " #   Column         Non-Null Count  Dtype \n",
      "---  ------         --------------  ----- \n",
      " 0   Student_ID     80 non-null     object\n",
      " 1   Course_ID      80 non-null     object\n",
      " 2   Rating         80 non-null     int64 \n",
      " 3   Feedback_Text  80 non-null     object\n",
      "dtypes: int64(1), object(3)\n",
      "memory usage: 2.6+ KB\n"
     ]
    }
   ],
   "source": [
    "df3.info()"
   ]
  },
  {
   "cell_type": "markdown",
   "id": "b5bb4917",
   "metadata": {},
   "source": [
    "   - No missing values in any dataset.\n",
    "   - Date (course activity), Enrolment_Date (students), are strings — need to convert to datetime."
   ]
  },
  {
   "cell_type": "markdown",
   "id": "d3307dd8",
   "metadata": {},
   "source": [
    "#### Step 1: Data Cleaning & Preparation"
   ]
  },
  {
   "cell_type": "code",
   "execution_count": 8,
   "id": "e619a9a9",
   "metadata": {},
   "outputs": [],
   "source": [
    "# Convert dates to datetime\n",
    "df1[\"Date\"] = pd.to_datetime(df1[\"Date\"], dayfirst=True, errors='coerce')\n",
    "df2['Enrolment_Date'] = pd.to_datetime(df2['Enrolment_Date'], dayfirst=True, errors='coerce')"
   ]
  },
  {
   "cell_type": "code",
   "execution_count": 9,
   "id": "6efd87e1",
   "metadata": {},
   "outputs": [
    {
     "data": {
      "text/plain": [
       "Student_ID               0\n",
       "Course_ID                0\n",
       "Date                     0\n",
       "Time_Spent_Minutes       0\n",
       "Completion_Percentage    0\n",
       "dtype: int64"
      ]
     },
     "execution_count": 9,
     "metadata": {},
     "output_type": "execute_result"
    }
   ],
   "source": [
    "# Check for missing value df1 dataset\n",
    "df1.isnull().sum()"
   ]
  },
  {
   "cell_type": "code",
   "execution_count": 10,
   "id": "c80f06e3",
   "metadata": {},
   "outputs": [
    {
     "data": {
      "text/plain": [
       "Student_ID        0\n",
       "Name              0\n",
       "Age               0\n",
       "Gender            0\n",
       "Location          0\n",
       "Enrolment_Date    0\n",
       "dtype: int64"
      ]
     },
     "execution_count": 10,
     "metadata": {},
     "output_type": "execute_result"
    }
   ],
   "source": [
    "# Check for missing value df2 dataset\n",
    "df2.isnull().sum()"
   ]
  },
  {
   "cell_type": "code",
   "execution_count": 11,
   "id": "58229741",
   "metadata": {},
   "outputs": [
    {
     "data": {
      "text/plain": [
       "Student_ID       0\n",
       "Course_ID        0\n",
       "Rating           0\n",
       "Feedback_Text    0\n",
       "dtype: int64"
      ]
     },
     "execution_count": 11,
     "metadata": {},
     "output_type": "execute_result"
    }
   ],
   "source": [
    "# Check for missing value df3 dataset\n",
    "df3.isnull().sum()"
   ]
  },
  {
   "cell_type": "markdown",
   "id": "69a2b382",
   "metadata": {},
   "source": [
    " - No missing values in df1, df2 & df3 dataset."
   ]
  },
  {
   "cell_type": "code",
   "execution_count": 12,
   "id": "0c426e4c",
   "metadata": {},
   "outputs": [
    {
     "data": {
      "text/plain": [
       "0"
      ]
     },
     "execution_count": 12,
     "metadata": {},
     "output_type": "execute_result"
    }
   ],
   "source": [
    "# Check for duplicates in df1 dataset\n",
    "df1.duplicated().sum()"
   ]
  },
  {
   "cell_type": "code",
   "execution_count": 13,
   "id": "b49aba8d",
   "metadata": {},
   "outputs": [
    {
     "data": {
      "text/plain": [
       "0"
      ]
     },
     "execution_count": 13,
     "metadata": {},
     "output_type": "execute_result"
    }
   ],
   "source": [
    "# Check for duplicates in df2 dataset\n",
    "df2.duplicated().sum()"
   ]
  },
  {
   "cell_type": "code",
   "execution_count": 14,
   "id": "8d08c91e",
   "metadata": {},
   "outputs": [
    {
     "data": {
      "text/plain": [
       "0"
      ]
     },
     "execution_count": 14,
     "metadata": {},
     "output_type": "execute_result"
    }
   ],
   "source": [
    "# Check for duplicates in df3 dataset\n",
    "df3.duplicated().sum()"
   ]
  },
  {
   "cell_type": "markdown",
   "id": "c58f14d7",
   "metadata": {},
   "source": [
    " - No duplicates values in df1, df2 & df3 dataset."
   ]
  },
  {
   "cell_type": "markdown",
   "id": "c3b5c51f",
   "metadata": {},
   "source": [
    "#### Step 2: Exploratory Data Analysis (EDA)"
   ]
  },
  {
   "cell_type": "code",
   "execution_count": 15,
   "id": "d8d7b0c0",
   "metadata": {},
   "outputs": [],
   "source": [
    "# Merge datasets for EDA\n",
    "merged_df = df1.merge(df2, on='Student_ID', how='left')\n",
    "merged_df = merged_df.merge(df3, on=['Student_ID', 'Course_ID'], how='left')"
   ]
  },
  {
   "cell_type": "code",
   "execution_count": 16,
   "id": "26cfccce",
   "metadata": {},
   "outputs": [
    {
     "data": {
      "text/html": [
       "<div>\n",
       "<style scoped>\n",
       "    .dataframe tbody tr th:only-of-type {\n",
       "        vertical-align: middle;\n",
       "    }\n",
       "\n",
       "    .dataframe tbody tr th {\n",
       "        vertical-align: top;\n",
       "    }\n",
       "\n",
       "    .dataframe thead th {\n",
       "        text-align: right;\n",
       "    }\n",
       "</style>\n",
       "<table border=\"1\" class=\"dataframe\">\n",
       "  <thead>\n",
       "    <tr style=\"text-align: right;\">\n",
       "      <th></th>\n",
       "      <th>Student_ID</th>\n",
       "      <th>Course_ID</th>\n",
       "      <th>Date</th>\n",
       "      <th>Time_Spent_Minutes</th>\n",
       "      <th>Completion_Percentage</th>\n",
       "      <th>Name</th>\n",
       "      <th>Age</th>\n",
       "      <th>Gender</th>\n",
       "      <th>Location</th>\n",
       "      <th>Enrolment_Date</th>\n",
       "      <th>Rating</th>\n",
       "      <th>Feedback_Text</th>\n",
       "    </tr>\n",
       "  </thead>\n",
       "  <tbody>\n",
       "    <tr>\n",
       "      <th>0</th>\n",
       "      <td>S001</td>\n",
       "      <td>PY202</td>\n",
       "      <td>2024-01-05</td>\n",
       "      <td>90</td>\n",
       "      <td>46.10</td>\n",
       "      <td>Student_1</td>\n",
       "      <td>24</td>\n",
       "      <td>Female</td>\n",
       "      <td>Kolkata</td>\n",
       "      <td>2023-11-24</td>\n",
       "      <td>NaN</td>\n",
       "      <td>NaN</td>\n",
       "    </tr>\n",
       "    <tr>\n",
       "      <th>1</th>\n",
       "      <td>S001</td>\n",
       "      <td>DM101</td>\n",
       "      <td>2024-01-28</td>\n",
       "      <td>155</td>\n",
       "      <td>88.87</td>\n",
       "      <td>Student_1</td>\n",
       "      <td>24</td>\n",
       "      <td>Female</td>\n",
       "      <td>Kolkata</td>\n",
       "      <td>2023-11-24</td>\n",
       "      <td>NaN</td>\n",
       "      <td>NaN</td>\n",
       "    </tr>\n",
       "    <tr>\n",
       "      <th>2</th>\n",
       "      <td>S001</td>\n",
       "      <td>UX303</td>\n",
       "      <td>2024-01-28</td>\n",
       "      <td>177</td>\n",
       "      <td>54.93</td>\n",
       "      <td>Student_1</td>\n",
       "      <td>24</td>\n",
       "      <td>Female</td>\n",
       "      <td>Kolkata</td>\n",
       "      <td>2023-11-24</td>\n",
       "      <td>NaN</td>\n",
       "      <td>NaN</td>\n",
       "    </tr>\n",
       "    <tr>\n",
       "      <th>3</th>\n",
       "      <td>S002</td>\n",
       "      <td>PY202</td>\n",
       "      <td>2024-02-03</td>\n",
       "      <td>45</td>\n",
       "      <td>32.20</td>\n",
       "      <td>Student_2</td>\n",
       "      <td>32</td>\n",
       "      <td>Other</td>\n",
       "      <td>Chennai</td>\n",
       "      <td>2023-02-27</td>\n",
       "      <td>3.0</td>\n",
       "      <td>Well structured</td>\n",
       "    </tr>\n",
       "    <tr>\n",
       "      <th>4</th>\n",
       "      <td>S002</td>\n",
       "      <td>UX303</td>\n",
       "      <td>2024-03-15</td>\n",
       "      <td>119</td>\n",
       "      <td>90.80</td>\n",
       "      <td>Student_2</td>\n",
       "      <td>32</td>\n",
       "      <td>Other</td>\n",
       "      <td>Chennai</td>\n",
       "      <td>2023-02-27</td>\n",
       "      <td>NaN</td>\n",
       "      <td>NaN</td>\n",
       "    </tr>\n",
       "    <tr>\n",
       "      <th>...</th>\n",
       "      <td>...</td>\n",
       "      <td>...</td>\n",
       "      <td>...</td>\n",
       "      <td>...</td>\n",
       "      <td>...</td>\n",
       "      <td>...</td>\n",
       "      <td>...</td>\n",
       "      <td>...</td>\n",
       "      <td>...</td>\n",
       "      <td>...</td>\n",
       "      <td>...</td>\n",
       "      <td>...</td>\n",
       "    </tr>\n",
       "    <tr>\n",
       "      <th>654</th>\n",
       "      <td>S100</td>\n",
       "      <td>PY202</td>\n",
       "      <td>2024-03-03</td>\n",
       "      <td>83</td>\n",
       "      <td>22.63</td>\n",
       "      <td>Student_100</td>\n",
       "      <td>22</td>\n",
       "      <td>Other</td>\n",
       "      <td>Bangalore</td>\n",
       "      <td>2023-06-16</td>\n",
       "      <td>NaN</td>\n",
       "      <td>NaN</td>\n",
       "    </tr>\n",
       "    <tr>\n",
       "      <th>655</th>\n",
       "      <td>S100</td>\n",
       "      <td>UX303</td>\n",
       "      <td>2024-02-27</td>\n",
       "      <td>168</td>\n",
       "      <td>14.83</td>\n",
       "      <td>Student_100</td>\n",
       "      <td>22</td>\n",
       "      <td>Other</td>\n",
       "      <td>Bangalore</td>\n",
       "      <td>2023-06-16</td>\n",
       "      <td>NaN</td>\n",
       "      <td>NaN</td>\n",
       "    </tr>\n",
       "    <tr>\n",
       "      <th>656</th>\n",
       "      <td>S100</td>\n",
       "      <td>UX303</td>\n",
       "      <td>2024-01-02</td>\n",
       "      <td>134</td>\n",
       "      <td>22.29</td>\n",
       "      <td>Student_100</td>\n",
       "      <td>22</td>\n",
       "      <td>Other</td>\n",
       "      <td>Bangalore</td>\n",
       "      <td>2023-06-16</td>\n",
       "      <td>NaN</td>\n",
       "      <td>NaN</td>\n",
       "    </tr>\n",
       "    <tr>\n",
       "      <th>657</th>\n",
       "      <td>S100</td>\n",
       "      <td>WD404</td>\n",
       "      <td>2024-03-12</td>\n",
       "      <td>139</td>\n",
       "      <td>68.78</td>\n",
       "      <td>Student_100</td>\n",
       "      <td>22</td>\n",
       "      <td>Other</td>\n",
       "      <td>Bangalore</td>\n",
       "      <td>2023-06-16</td>\n",
       "      <td>NaN</td>\n",
       "      <td>NaN</td>\n",
       "    </tr>\n",
       "    <tr>\n",
       "      <th>658</th>\n",
       "      <td>S100</td>\n",
       "      <td>WD404</td>\n",
       "      <td>2024-03-28</td>\n",
       "      <td>135</td>\n",
       "      <td>47.41</td>\n",
       "      <td>Student_100</td>\n",
       "      <td>22</td>\n",
       "      <td>Other</td>\n",
       "      <td>Bangalore</td>\n",
       "      <td>2023-06-16</td>\n",
       "      <td>NaN</td>\n",
       "      <td>NaN</td>\n",
       "    </tr>\n",
       "  </tbody>\n",
       "</table>\n",
       "<p>659 rows × 12 columns</p>\n",
       "</div>"
      ],
      "text/plain": [
       "    Student_ID Course_ID       Date  Time_Spent_Minutes  \\\n",
       "0         S001     PY202 2024-01-05                  90   \n",
       "1         S001     DM101 2024-01-28                 155   \n",
       "2         S001     UX303 2024-01-28                 177   \n",
       "3         S002     PY202 2024-02-03                  45   \n",
       "4         S002     UX303 2024-03-15                 119   \n",
       "..         ...       ...        ...                 ...   \n",
       "654       S100     PY202 2024-03-03                  83   \n",
       "655       S100     UX303 2024-02-27                 168   \n",
       "656       S100     UX303 2024-01-02                 134   \n",
       "657       S100     WD404 2024-03-12                 139   \n",
       "658       S100     WD404 2024-03-28                 135   \n",
       "\n",
       "     Completion_Percentage         Name  Age  Gender   Location  \\\n",
       "0                    46.10    Student_1   24  Female    Kolkata   \n",
       "1                    88.87    Student_1   24  Female    Kolkata   \n",
       "2                    54.93    Student_1   24  Female    Kolkata   \n",
       "3                    32.20    Student_2   32   Other    Chennai   \n",
       "4                    90.80    Student_2   32   Other    Chennai   \n",
       "..                     ...          ...  ...     ...        ...   \n",
       "654                  22.63  Student_100   22   Other  Bangalore   \n",
       "655                  14.83  Student_100   22   Other  Bangalore   \n",
       "656                  22.29  Student_100   22   Other  Bangalore   \n",
       "657                  68.78  Student_100   22   Other  Bangalore   \n",
       "658                  47.41  Student_100   22   Other  Bangalore   \n",
       "\n",
       "    Enrolment_Date  Rating    Feedback_Text  \n",
       "0       2023-11-24     NaN              NaN  \n",
       "1       2023-11-24     NaN              NaN  \n",
       "2       2023-11-24     NaN              NaN  \n",
       "3       2023-02-27     3.0  Well structured  \n",
       "4       2023-02-27     NaN              NaN  \n",
       "..             ...     ...              ...  \n",
       "654     2023-06-16     NaN              NaN  \n",
       "655     2023-06-16     NaN              NaN  \n",
       "656     2023-06-16     NaN              NaN  \n",
       "657     2023-06-16     NaN              NaN  \n",
       "658     2023-06-16     NaN              NaN  \n",
       "\n",
       "[659 rows x 12 columns]"
      ]
     },
     "execution_count": 16,
     "metadata": {},
     "output_type": "execute_result"
    }
   ],
   "source": [
    "merged_df"
   ]
  },
  {
   "cell_type": "code",
   "execution_count": 17,
   "id": "a657acd8",
   "metadata": {},
   "outputs": [
    {
     "data": {
      "text/plain": [
       "54.77871016691957"
      ]
     },
     "execution_count": 17,
     "metadata": {},
     "output_type": "execute_result"
    }
   ],
   "source": [
    "# 1. Overall average completion rate across courses\n",
    "avg_completion_rate = merged_df['Completion_Percentage'].mean()\n",
    "avg_completion_rate"
   ]
  },
  {
   "cell_type": "code",
   "execution_count": 18,
   "id": "78f3415e",
   "metadata": {},
   "outputs": [
    {
     "data": {
      "text/plain": [
       "Course_ID\n",
       "DM101    102.427673\n",
       "PY202     93.902439\n",
       "UX303     99.816568\n",
       "WD404     96.419162\n",
       "Name: Time_Spent_Minutes, dtype: float64"
      ]
     },
     "execution_count": 18,
     "metadata": {},
     "output_type": "execute_result"
    }
   ],
   "source": [
    "# 2. Courses with highest and lowest average engagement time\n",
    "avg_time_by_course = merged_df.groupby('Course_ID')['Time_Spent_Minutes'].mean()\n",
    "avg_time_by_course"
   ]
  },
  {
   "cell_type": "code",
   "execution_count": 19,
   "id": "f751c26e",
   "metadata": {},
   "outputs": [
    {
     "data": {
      "text/plain": [
       "('DM101', 102.42767295597484)"
      ]
     },
     "execution_count": 19,
     "metadata": {},
     "output_type": "execute_result"
    }
   ],
   "source": [
    "highest_engagement_course = avg_time_by_course.idxmax(), avg_time_by_course.max()\n",
    "highest_engagement_course"
   ]
  },
  {
   "cell_type": "code",
   "execution_count": 20,
   "id": "314888d5",
   "metadata": {},
   "outputs": [
    {
     "data": {
      "text/plain": [
       "('PY202', 93.90243902439025)"
      ]
     },
     "execution_count": 20,
     "metadata": {},
     "output_type": "execute_result"
    }
   ],
   "source": [
    "lowest_engagement_course = avg_time_by_course.idxmin(), avg_time_by_course.min()\n",
    "lowest_engagement_course"
   ]
  },
  {
   "cell_type": "code",
   "execution_count": 21,
   "id": "0ac05b79",
   "metadata": {},
   "outputs": [
    {
     "data": {
      "text/plain": [
       "Age_Group\n",
       "15-25    100.758929\n",
       "26-35     95.362229\n",
       "36-50           NaN\n",
       "Name: Time_Spent_Minutes, dtype: float64"
      ]
     },
     "execution_count": 21,
     "metadata": {},
     "output_type": "execute_result"
    }
   ],
   "source": [
    "# 3. Engagement by age group\n",
    "merged_df['Age_Group'] = pd.cut(merged_df['Age'], bins=[15, 25, 35, 50], labels=['15-25', '26-35', '36-50'])\n",
    "avg_time_by_age = merged_df.groupby('Age_Group')['Time_Spent_Minutes'].mean()\n",
    "avg_time_by_age"
   ]
  },
  {
   "cell_type": "code",
   "execution_count": 22,
   "id": "260d22df",
   "metadata": {},
   "outputs": [
    {
     "data": {
      "text/plain": [
       "Course_ID\n",
       "DM101    2.900000\n",
       "PY202    3.277778\n",
       "UX303    2.923077\n",
       "WD404    2.789474\n",
       "Name: Rating, dtype: float64"
      ]
     },
     "execution_count": 22,
     "metadata": {},
     "output_type": "execute_result"
    }
   ],
   "source": [
    "# 4. Average feedback rating per course\n",
    "avg_rating_by_course = df3.groupby('Course_ID')['Rating'].mean()\n",
    "avg_rating_by_course"
   ]
  },
  {
   "cell_type": "code",
   "execution_count": 23,
   "id": "86cbb130",
   "metadata": {},
   "outputs": [
    {
     "data": {
      "text/plain": [
       "-0.05170765814948298"
      ]
     },
     "execution_count": 23,
     "metadata": {},
     "output_type": "execute_result"
    }
   ],
   "source": [
    "# 5. Correlation between completion rate and feedback rating\n",
    "correlation = merged_df[['Completion_Percentage', 'Rating']].corr().loc['Completion_Percentage', 'Rating']\n",
    "correlation"
   ]
  },
  {
   "cell_type": "code",
   "execution_count": 24,
   "id": "1918f903",
   "metadata": {},
   "outputs": [
    {
     "data": {
      "text/html": [
       "<div>\n",
       "<style scoped>\n",
       "    .dataframe tbody tr th:only-of-type {\n",
       "        vertical-align: middle;\n",
       "    }\n",
       "\n",
       "    .dataframe tbody tr th {\n",
       "        vertical-align: top;\n",
       "    }\n",
       "\n",
       "    .dataframe thead th {\n",
       "        text-align: right;\n",
       "    }\n",
       "</style>\n",
       "<table border=\"1\" class=\"dataframe\">\n",
       "  <thead>\n",
       "    <tr style=\"text-align: right;\">\n",
       "      <th></th>\n",
       "      <th>Time_Spent_Minutes</th>\n",
       "      <th>Completion_Percentage</th>\n",
       "      <th>Rating</th>\n",
       "    </tr>\n",
       "    <tr>\n",
       "      <th>Student_ID</th>\n",
       "      <th></th>\n",
       "      <th></th>\n",
       "      <th></th>\n",
       "    </tr>\n",
       "  </thead>\n",
       "  <tbody>\n",
       "    <tr>\n",
       "      <th>S075</th>\n",
       "      <td>154.000000</td>\n",
       "      <td>65.753333</td>\n",
       "      <td>1.0</td>\n",
       "    </tr>\n",
       "    <tr>\n",
       "      <th>S042</th>\n",
       "      <td>147.666667</td>\n",
       "      <td>52.927778</td>\n",
       "      <td>1.0</td>\n",
       "    </tr>\n",
       "    <tr>\n",
       "      <th>S051</th>\n",
       "      <td>147.600000</td>\n",
       "      <td>44.122000</td>\n",
       "      <td>2.0</td>\n",
       "    </tr>\n",
       "  </tbody>\n",
       "</table>\n",
       "</div>"
      ],
      "text/plain": [
       "            Time_Spent_Minutes  Completion_Percentage  Rating\n",
       "Student_ID                                                   \n",
       "S075                154.000000              65.753333     1.0\n",
       "S042                147.666667              52.927778     1.0\n",
       "S051                147.600000              44.122000     2.0"
      ]
     },
     "execution_count": 24,
     "metadata": {},
     "output_type": "execute_result"
    }
   ],
   "source": [
    "# 6. Top 3 student segments based on engagement & satisfaction\n",
    "engagement_satisfaction = merged_df.groupby('Student_ID').agg({\n",
    "    'Time_Spent_Minutes': 'mean',\n",
    "    'Completion_Percentage': 'mean',\n",
    "    'Rating': 'mean'\n",
    "}).sort_values(by=['Time_Spent_Minutes', 'Completion_Percentage', 'Rating'], ascending=False).head(3)\n",
    "engagement_satisfaction"
   ]
  },
  {
   "cell_type": "markdown",
   "id": "78eb7cf0",
   "metadata": {},
   "source": [
    "#### Step 3: Visualizations"
   ]
  },
  {
   "cell_type": "code",
   "execution_count": 25,
   "id": "536fd006",
   "metadata": {},
   "outputs": [
    {
     "name": "stderr",
     "output_type": "stream",
     "text": [
      "C:\\Users\\dell\\anaconda3\\Lib\\site-packages\\seaborn\\axisgrid.py:118: UserWarning: The figure layout has changed to tight\n",
      "  self._figure.tight_layout(*args, **kwargs)\n"
     ]
    },
    {
     "data": {
      "image/png": "[encoded data removed]",
      "text/plain": [
       "<Figure size 500x500 with 1 Axes>"
      ]
     },
     "metadata": {},
     "output_type": "display_data"
    }
   ],
   "source": [
    "# 1. Average Completion Percentage by Course\n",
    "sns.catplot(x=\"Course_ID\",y=\"Completion_Percentage\",data=merged_df,kind =\"bar\")\n",
    "plt.show()"
   ]
  },
  {
   "cell_type": "code",
   "execution_count": 26,
   "id": "059b46d9",
   "metadata": {},
   "outputs": [
    {
     "data": {
      "text/plain": [
       "Text(0, 0.5, 'Time Spent (Minutes)')"
      ]
     },
     "execution_count": 26,
     "metadata": {},
     "output_type": "execute_result"
    },
    {
     "data": {
      "image/png": "[encoded data removed]",
      "text/plain": [
       "<Figure size 640x480 with 1 Axes>"
      ]
     },
     "metadata": {},
     "output_type": "display_data"
    }
   ],
   "source": [
    "# 2. Engagement Time by Age Group\n",
    "sns.barplot(x=avg_time_by_age.index, y=avg_time_by_age.values)\n",
    "plt.title(\"Average Engagement Time by Age Group\")\n",
    "plt.xlabel(\"Age Group\")\n",
    "plt.ylabel(\"Time Spent (Minutes)\")"
   ]
  },
  {
   "cell_type": "code",
   "execution_count": 27,
   "id": "a94827c5",
   "metadata": {},
   "outputs": [
    {
     "data": {
      "text/plain": [
       "Text(0, 0.5, 'Average Rating')"
      ]
     },
     "execution_count": 27,
     "metadata": {},
     "output_type": "execute_result"
    },
    {
     "data": {
      "image/png": "[encoded data removed]",
      "text/plain": [
       "<Figure size 640x480 with 1 Axes>"
      ]
     },
     "metadata": {},
     "output_type": "display_data"
    }
   ],
   "source": [
    "# 3. Average Feedback Rating per Course\n",
    "avg_rating_by_course.plot(kind='bar', color='orange')\n",
    "plt.title(\"Average Feedback Rating per Course\")\n",
    "plt.xlabel(\"Course ID\")\n",
    "plt.ylabel(\"Average Rating\")"
   ]
  },
  {
   "cell_type": "code",
   "execution_count": 28,
   "id": "18a1aaca",
   "metadata": {},
   "outputs": [
    {
     "data": {
      "text/plain": [
       "Text(0, 0.5, 'Rating')"
      ]
     },
     "execution_count": 28,
     "metadata": {},
     "output_type": "execute_result"
    },
    {
     "data": {
      "image/png": "[encoded data removed]",
      "text/plain": [
       "<Figure size 640x480 with 1 Axes>"
      ]
     },
     "metadata": {},
     "output_type": "display_data"
    }
   ],
   "source": [
    "# 4. Correlation between Completion % and Rating (Scatter)\n",
    "sns.scatterplot(data=merged_df, x='Completion_Percentage', y='Rating')\n",
    "plt.title(\"Completion % vs Feedback Rating\")\n",
    "plt.xlabel(\"Completion Percentage\")\n",
    "plt.ylabel(\"Rating\")"
   ]
  },
  {
   "cell_type": "code",
   "execution_count": 29,
   "id": "e1e3b4f1",
   "metadata": {},
   "outputs": [
    {
     "data": {
      "text/plain": [
       "Text(0.5, 0, 'Course ID')"
      ]
     },
     "execution_count": 29,
     "metadata": {},
     "output_type": "execute_result"
    },
    {
     "data": {
      "image/png": "[encoded data removed]",
      "text/plain": [
       "<Figure size 640x480 with 1 Axes>"
      ]
     },
     "metadata": {},
     "output_type": "display_data"
    }
   ],
   "source": [
    "# 5. Time Spent Distribution by Course\n",
    "plt.figure()\n",
    "sns.boxplot(data=merged_df, x='Course_ID', y='Time_Spent_Minutes')\n",
    "plt.title(\"Distribution of Time Spent by Course\")\n",
    "plt.ylabel(\"Time Spent (Minutes)\")\n",
    "plt.xlabel(\"Course ID\")"
   ]
  }
 ],
 "metadata": {
  "kernelspec": {
   "display_name": "Python 3 (ipykernel)",
   "language": "python",
   "name": "python3"
  },
  "language_info": {
   "codemirror_mode": {
    "name": "ipython",
    "version": 3
   },
   "file_extension": ".py",
   "mimetype": "text/x-python",
   "name": "python",
   "nbconvert_exporter": "python",
   "pygments_lexer": "ipython3",
   "version": "3.11.5"
  }
 },
 "nbformat": 4,
 "nbformat_minor": 5
}
